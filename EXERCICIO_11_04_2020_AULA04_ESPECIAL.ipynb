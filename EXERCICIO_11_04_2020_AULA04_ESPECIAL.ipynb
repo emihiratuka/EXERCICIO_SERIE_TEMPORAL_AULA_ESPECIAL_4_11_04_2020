{
 "cells": [
  {
   "cell_type": "markdown",
   "metadata": {},
   "source": [
    "EXERCICIO DA AULA 04 ESPECIAL - DIA 11/04/2020"
   ]
  },
  {
   "cell_type": "code",
   "execution_count": 1,
   "metadata": {},
   "outputs": [],
   "source": [
    "import pandas as pd\n",
    "import numpy as np\n",
    "import matplotlib.pyplot as plt\n",
    "%matplotlib inline"
   ]
  },
  {
   "cell_type": "markdown",
   "metadata": {},
   "source": [
    "CARREGANDO O ARQUIVO DE RECUPERADOS DO COVID-19"
   ]
  },
  {
   "cell_type": "code",
   "execution_count": 2,
   "metadata": {},
   "outputs": [
    {
     "data": {
      "text/html": [
       "<div>\n",
       "<style scoped>\n",
       "    .dataframe tbody tr th:only-of-type {\n",
       "        vertical-align: middle;\n",
       "    }\n",
       "\n",
       "    .dataframe tbody tr th {\n",
       "        vertical-align: top;\n",
       "    }\n",
       "\n",
       "    .dataframe thead th {\n",
       "        text-align: right;\n",
       "    }\n",
       "</style>\n",
       "<table border=\"1\" class=\"dataframe\">\n",
       "  <thead>\n",
       "    <tr style=\"text-align: right;\">\n",
       "      <th></th>\n",
       "      <th>Province/State</th>\n",
       "      <th>Country/Region</th>\n",
       "      <th>Lat</th>\n",
       "      <th>Long</th>\n",
       "      <th>1/22/20</th>\n",
       "    </tr>\n",
       "  </thead>\n",
       "  <tbody>\n",
       "    <tr>\n",
       "      <td>0</td>\n",
       "      <td>NaN</td>\n",
       "      <td>Afghanistan</td>\n",
       "      <td>33.0000</td>\n",
       "      <td>65.0000</td>\n",
       "      <td>0</td>\n",
       "    </tr>\n",
       "    <tr>\n",
       "      <td>1</td>\n",
       "      <td>NaN</td>\n",
       "      <td>Albania</td>\n",
       "      <td>41.1533</td>\n",
       "      <td>20.1683</td>\n",
       "      <td>0</td>\n",
       "    </tr>\n",
       "    <tr>\n",
       "      <td>2</td>\n",
       "      <td>NaN</td>\n",
       "      <td>Algeria</td>\n",
       "      <td>28.0339</td>\n",
       "      <td>1.6596</td>\n",
       "      <td>0</td>\n",
       "    </tr>\n",
       "  </tbody>\n",
       "</table>\n",
       "</div>"
      ],
      "text/plain": [
       "  Province/State Country/Region      Lat     Long  1/22/20\n",
       "0            NaN    Afghanistan  33.0000  65.0000        0\n",
       "1            NaN        Albania  41.1533  20.1683        0\n",
       "2            NaN        Algeria  28.0339   1.6596        0"
      ]
     },
     "execution_count": 2,
     "metadata": {},
     "output_type": "execute_result"
    }
   ],
   "source": [
    "DataFrame = pd.read_csv(\"time_series_covid19_recovered_global.csv\")\n",
    "DataFrame.iloc[:3, :5]"
   ]
  },
  {
   "cell_type": "code",
   "execution_count": 26,
   "metadata": {},
   "outputs": [
    {
     "data": {
      "text/html": [
       "<div>\n",
       "<style scoped>\n",
       "    .dataframe tbody tr th:only-of-type {\n",
       "        vertical-align: middle;\n",
       "    }\n",
       "\n",
       "    .dataframe tbody tr th {\n",
       "        vertical-align: top;\n",
       "    }\n",
       "\n",
       "    .dataframe thead th {\n",
       "        text-align: right;\n",
       "    }\n",
       "</style>\n",
       "<table border=\"1\" class=\"dataframe\">\n",
       "  <thead>\n",
       "    <tr style=\"text-align: right;\">\n",
       "      <th></th>\n",
       "      <th>Lat</th>\n",
       "      <th>Long</th>\n",
       "      <th>1/22/20</th>\n",
       "      <th>1/23/20</th>\n",
       "      <th>1/24/20</th>\n",
       "      <th>1/25/20</th>\n",
       "      <th>1/26/20</th>\n",
       "      <th>1/27/20</th>\n",
       "      <th>1/28/20</th>\n",
       "      <th>1/29/20</th>\n",
       "      <th>...</th>\n",
       "      <th>4/1/20</th>\n",
       "      <th>4/2/20</th>\n",
       "      <th>4/3/20</th>\n",
       "      <th>4/4/20</th>\n",
       "      <th>4/5/20</th>\n",
       "      <th>4/6/20</th>\n",
       "      <th>4/7/20</th>\n",
       "      <th>4/8/20</th>\n",
       "      <th>4/9/20</th>\n",
       "      <th>4/10/20</th>\n",
       "    </tr>\n",
       "  </thead>\n",
       "  <tbody>\n",
       "    <tr>\n",
       "      <td>count</td>\n",
       "      <td>250.000000</td>\n",
       "      <td>250.000000</td>\n",
       "      <td>250.000000</td>\n",
       "      <td>250.000000</td>\n",
       "      <td>250.0000</td>\n",
       "      <td>250.00000</td>\n",
       "      <td>250.00000</td>\n",
       "      <td>250.00000</td>\n",
       "      <td>250.000000</td>\n",
       "      <td>250.000000</td>\n",
       "      <td>...</td>\n",
       "      <td>250.000000</td>\n",
       "      <td>250.000000</td>\n",
       "      <td>250.000000</td>\n",
       "      <td>250.000000</td>\n",
       "      <td>250.000000</td>\n",
       "      <td>250.000000</td>\n",
       "      <td>250.000000</td>\n",
       "      <td>250.000000</td>\n",
       "      <td>250.000000</td>\n",
       "      <td>250.000000</td>\n",
       "    </tr>\n",
       "    <tr>\n",
       "      <td>mean</td>\n",
       "      <td>20.048575</td>\n",
       "      <td>27.934869</td>\n",
       "      <td>0.112000</td>\n",
       "      <td>0.120000</td>\n",
       "      <td>0.1440</td>\n",
       "      <td>0.15600</td>\n",
       "      <td>0.20800</td>\n",
       "      <td>0.24400</td>\n",
       "      <td>0.428000</td>\n",
       "      <td>0.504000</td>\n",
       "      <td>...</td>\n",
       "      <td>772.708000</td>\n",
       "      <td>841.052000</td>\n",
       "      <td>903.184000</td>\n",
       "      <td>984.608000</td>\n",
       "      <td>1040.048000</td>\n",
       "      <td>1106.060000</td>\n",
       "      <td>1200.216000</td>\n",
       "      <td>1314.644000</td>\n",
       "      <td>1415.900000</td>\n",
       "      <td>1504.384000</td>\n",
       "    </tr>\n",
       "    <tr>\n",
       "      <td>std</td>\n",
       "      <td>24.394560</td>\n",
       "      <td>67.432156</td>\n",
       "      <td>1.770875</td>\n",
       "      <td>1.774881</td>\n",
       "      <td>1.9664</td>\n",
       "      <td>2.03278</td>\n",
       "      <td>2.66555</td>\n",
       "      <td>2.86939</td>\n",
       "      <td>5.090034</td>\n",
       "      <td>5.599231</td>\n",
       "      <td>...</td>\n",
       "      <td>4699.801122</td>\n",
       "      <td>4907.434102</td>\n",
       "      <td>5098.780571</td>\n",
       "      <td>5338.962605</td>\n",
       "      <td>5546.156825</td>\n",
       "      <td>5742.144926</td>\n",
       "      <td>6105.529052</td>\n",
       "      <td>6634.364417</td>\n",
       "      <td>7057.018413</td>\n",
       "      <td>7368.006518</td>\n",
       "    </tr>\n",
       "    <tr>\n",
       "      <td>min</td>\n",
       "      <td>-51.796300</td>\n",
       "      <td>-106.346800</td>\n",
       "      <td>0.000000</td>\n",
       "      <td>0.000000</td>\n",
       "      <td>0.0000</td>\n",
       "      <td>0.00000</td>\n",
       "      <td>0.00000</td>\n",
       "      <td>0.00000</td>\n",
       "      <td>0.000000</td>\n",
       "      <td>0.000000</td>\n",
       "      <td>...</td>\n",
       "      <td>0.000000</td>\n",
       "      <td>0.000000</td>\n",
       "      <td>0.000000</td>\n",
       "      <td>0.000000</td>\n",
       "      <td>0.000000</td>\n",
       "      <td>0.000000</td>\n",
       "      <td>0.000000</td>\n",
       "      <td>0.000000</td>\n",
       "      <td>0.000000</td>\n",
       "      <td>0.000000</td>\n",
       "    </tr>\n",
       "    <tr>\n",
       "      <td>25%</td>\n",
       "      <td>6.677575</td>\n",
       "      <td>-8.091400</td>\n",
       "      <td>0.000000</td>\n",
       "      <td>0.000000</td>\n",
       "      <td>0.0000</td>\n",
       "      <td>0.00000</td>\n",
       "      <td>0.00000</td>\n",
       "      <td>0.00000</td>\n",
       "      <td>0.000000</td>\n",
       "      <td>0.000000</td>\n",
       "      <td>...</td>\n",
       "      <td>0.000000</td>\n",
       "      <td>1.000000</td>\n",
       "      <td>1.000000</td>\n",
       "      <td>1.000000</td>\n",
       "      <td>1.000000</td>\n",
       "      <td>2.000000</td>\n",
       "      <td>3.000000</td>\n",
       "      <td>4.000000</td>\n",
       "      <td>4.000000</td>\n",
       "      <td>4.000000</td>\n",
       "    </tr>\n",
       "    <tr>\n",
       "      <td>50%</td>\n",
       "      <td>21.805100</td>\n",
       "      <td>22.380900</td>\n",
       "      <td>0.000000</td>\n",
       "      <td>0.000000</td>\n",
       "      <td>0.0000</td>\n",
       "      <td>0.00000</td>\n",
       "      <td>0.00000</td>\n",
       "      <td>0.00000</td>\n",
       "      <td>0.000000</td>\n",
       "      <td>0.000000</td>\n",
       "      <td>...</td>\n",
       "      <td>12.000000</td>\n",
       "      <td>18.000000</td>\n",
       "      <td>21.000000</td>\n",
       "      <td>24.500000</td>\n",
       "      <td>28.000000</td>\n",
       "      <td>33.000000</td>\n",
       "      <td>39.500000</td>\n",
       "      <td>40.000000</td>\n",
       "      <td>47.500000</td>\n",
       "      <td>53.000000</td>\n",
       "    </tr>\n",
       "    <tr>\n",
       "      <td>75%</td>\n",
       "      <td>39.376275</td>\n",
       "      <td>87.379325</td>\n",
       "      <td>0.000000</td>\n",
       "      <td>0.000000</td>\n",
       "      <td>0.0000</td>\n",
       "      <td>0.00000</td>\n",
       "      <td>0.00000</td>\n",
       "      <td>0.00000</td>\n",
       "      <td>0.000000</td>\n",
       "      <td>0.000000</td>\n",
       "      <td>...</td>\n",
       "      <td>93.500000</td>\n",
       "      <td>109.750000</td>\n",
       "      <td>127.000000</td>\n",
       "      <td>131.000000</td>\n",
       "      <td>141.750000</td>\n",
       "      <td>162.000000</td>\n",
       "      <td>173.000000</td>\n",
       "      <td>202.750000</td>\n",
       "      <td>249.000000</td>\n",
       "      <td>278.750000</td>\n",
       "    </tr>\n",
       "    <tr>\n",
       "      <td>max</td>\n",
       "      <td>71.706900</td>\n",
       "      <td>178.065000</td>\n",
       "      <td>28.000000</td>\n",
       "      <td>28.000000</td>\n",
       "      <td>31.0000</td>\n",
       "      <td>32.00000</td>\n",
       "      <td>42.00000</td>\n",
       "      <td>45.00000</td>\n",
       "      <td>80.000000</td>\n",
       "      <td>88.000000</td>\n",
       "      <td>...</td>\n",
       "      <td>63326.000000</td>\n",
       "      <td>63471.000000</td>\n",
       "      <td>63612.000000</td>\n",
       "      <td>63762.000000</td>\n",
       "      <td>63945.000000</td>\n",
       "      <td>64014.000000</td>\n",
       "      <td>64073.000000</td>\n",
       "      <td>64142.000000</td>\n",
       "      <td>64187.000000</td>\n",
       "      <td>64236.000000</td>\n",
       "    </tr>\n",
       "  </tbody>\n",
       "</table>\n",
       "<p>8 rows × 82 columns</p>\n",
       "</div>"
      ],
      "text/plain": [
       "              Lat        Long     1/22/20     1/23/20   1/24/20    1/25/20  \\\n",
       "count  250.000000  250.000000  250.000000  250.000000  250.0000  250.00000   \n",
       "mean    20.048575   27.934869    0.112000    0.120000    0.1440    0.15600   \n",
       "std     24.394560   67.432156    1.770875    1.774881    1.9664    2.03278   \n",
       "min    -51.796300 -106.346800    0.000000    0.000000    0.0000    0.00000   \n",
       "25%      6.677575   -8.091400    0.000000    0.000000    0.0000    0.00000   \n",
       "50%     21.805100   22.380900    0.000000    0.000000    0.0000    0.00000   \n",
       "75%     39.376275   87.379325    0.000000    0.000000    0.0000    0.00000   \n",
       "max     71.706900  178.065000   28.000000   28.000000   31.0000   32.00000   \n",
       "\n",
       "         1/26/20    1/27/20     1/28/20     1/29/20  ...        4/1/20  \\\n",
       "count  250.00000  250.00000  250.000000  250.000000  ...    250.000000   \n",
       "mean     0.20800    0.24400    0.428000    0.504000  ...    772.708000   \n",
       "std      2.66555    2.86939    5.090034    5.599231  ...   4699.801122   \n",
       "min      0.00000    0.00000    0.000000    0.000000  ...      0.000000   \n",
       "25%      0.00000    0.00000    0.000000    0.000000  ...      0.000000   \n",
       "50%      0.00000    0.00000    0.000000    0.000000  ...     12.000000   \n",
       "75%      0.00000    0.00000    0.000000    0.000000  ...     93.500000   \n",
       "max     42.00000   45.00000   80.000000   88.000000  ...  63326.000000   \n",
       "\n",
       "             4/2/20        4/3/20        4/4/20        4/5/20        4/6/20  \\\n",
       "count    250.000000    250.000000    250.000000    250.000000    250.000000   \n",
       "mean     841.052000    903.184000    984.608000   1040.048000   1106.060000   \n",
       "std     4907.434102   5098.780571   5338.962605   5546.156825   5742.144926   \n",
       "min        0.000000      0.000000      0.000000      0.000000      0.000000   \n",
       "25%        1.000000      1.000000      1.000000      1.000000      2.000000   \n",
       "50%       18.000000     21.000000     24.500000     28.000000     33.000000   \n",
       "75%      109.750000    127.000000    131.000000    141.750000    162.000000   \n",
       "max    63471.000000  63612.000000  63762.000000  63945.000000  64014.000000   \n",
       "\n",
       "             4/7/20        4/8/20        4/9/20       4/10/20  \n",
       "count    250.000000    250.000000    250.000000    250.000000  \n",
       "mean    1200.216000   1314.644000   1415.900000   1504.384000  \n",
       "std     6105.529052   6634.364417   7057.018413   7368.006518  \n",
       "min        0.000000      0.000000      0.000000      0.000000  \n",
       "25%        3.000000      4.000000      4.000000      4.000000  \n",
       "50%       39.500000     40.000000     47.500000     53.000000  \n",
       "75%      173.000000    202.750000    249.000000    278.750000  \n",
       "max    64073.000000  64142.000000  64187.000000  64236.000000  \n",
       "\n",
       "[8 rows x 82 columns]"
      ]
     },
     "execution_count": 26,
     "metadata": {},
     "output_type": "execute_result"
    }
   ],
   "source": [
    "DataFrame.describe()"
   ]
  },
  {
   "cell_type": "code",
   "execution_count": 27,
   "metadata": {},
   "outputs": [
    {
     "data": {
      "text/html": [
       "<div>\n",
       "<style scoped>\n",
       "    .dataframe tbody tr th:only-of-type {\n",
       "        vertical-align: middle;\n",
       "    }\n",
       "\n",
       "    .dataframe tbody tr th {\n",
       "        vertical-align: top;\n",
       "    }\n",
       "\n",
       "    .dataframe thead th {\n",
       "        text-align: right;\n",
       "    }\n",
       "</style>\n",
       "<table border=\"1\" class=\"dataframe\">\n",
       "  <thead>\n",
       "    <tr style=\"text-align: right;\">\n",
       "      <th></th>\n",
       "      <th>4/10/20</th>\n",
       "      <th>Country/Region</th>\n",
       "    </tr>\n",
       "  </thead>\n",
       "  <tbody>\n",
       "    <tr>\n",
       "      <td>53</td>\n",
       "      <td>64236</td>\n",
       "      <td>China</td>\n",
       "    </tr>\n",
       "    <tr>\n",
       "      <td>199</td>\n",
       "      <td>55668</td>\n",
       "      <td>Spain</td>\n",
       "    </tr>\n",
       "    <tr>\n",
       "      <td>112</td>\n",
       "      <td>53913</td>\n",
       "      <td>Germany</td>\n",
       "    </tr>\n",
       "    <tr>\n",
       "      <td>127</td>\n",
       "      <td>35465</td>\n",
       "      <td>Iran</td>\n",
       "    </tr>\n",
       "    <tr>\n",
       "      <td>131</td>\n",
       "      <td>30455</td>\n",
       "      <td>Italy</td>\n",
       "    </tr>\n",
       "    <tr>\n",
       "      <td>225</td>\n",
       "      <td>28790</td>\n",
       "      <td>US</td>\n",
       "    </tr>\n",
       "    <tr>\n",
       "      <td>108</td>\n",
       "      <td>24932</td>\n",
       "      <td>France</td>\n",
       "    </tr>\n",
       "    <tr>\n",
       "      <td>204</td>\n",
       "      <td>11100</td>\n",
       "      <td>Switzerland</td>\n",
       "    </tr>\n",
       "    <tr>\n",
       "      <td>137</td>\n",
       "      <td>7117</td>\n",
       "      <td>Korea, South</td>\n",
       "    </tr>\n",
       "    <tr>\n",
       "      <td>16</td>\n",
       "      <td>6064</td>\n",
       "      <td>Austria</td>\n",
       "    </tr>\n",
       "  </tbody>\n",
       "</table>\n",
       "</div>"
      ],
      "text/plain": [
       "     4/10/20 Country/Region\n",
       "53     64236          China\n",
       "199    55668          Spain\n",
       "112    53913        Germany\n",
       "127    35465           Iran\n",
       "131    30455          Italy\n",
       "225    28790             US\n",
       "108    24932         France\n",
       "204    11100    Switzerland\n",
       "137     7117   Korea, South\n",
       "16      6064        Austria"
      ]
     },
     "execution_count": 27,
     "metadata": {},
     "output_type": "execute_result"
    }
   ],
   "source": [
    "DataFrame_sorted = DataFrame.sort_values(['4/10/20', 'Country/Region'], ascending = False)\n",
    "DataFrame_sorted[['4/10/20', 'Country/Region']].head(10)"
   ]
  },
  {
   "cell_type": "markdown",
   "metadata": {},
   "source": [
    "EXPLORAR"
   ]
  },
  {
   "cell_type": "code",
   "execution_count": 3,
   "metadata": {},
   "outputs": [
    {
     "data": {
      "text/html": [
       "<div>\n",
       "<style scoped>\n",
       "    .dataframe tbody tr th:only-of-type {\n",
       "        vertical-align: middle;\n",
       "    }\n",
       "\n",
       "    .dataframe tbody tr th {\n",
       "        vertical-align: top;\n",
       "    }\n",
       "\n",
       "    .dataframe thead th {\n",
       "        text-align: right;\n",
       "    }\n",
       "</style>\n",
       "<table border=\"1\" class=\"dataframe\">\n",
       "  <thead>\n",
       "    <tr style=\"text-align: right;\">\n",
       "      <th></th>\n",
       "      <th>Lat</th>\n",
       "      <th>Long</th>\n",
       "      <th>1/22/20</th>\n",
       "      <th>1/23/20</th>\n",
       "      <th>1/24/20</th>\n",
       "      <th>1/25/20</th>\n",
       "      <th>1/26/20</th>\n",
       "      <th>1/27/20</th>\n",
       "      <th>1/28/20</th>\n",
       "      <th>1/29/20</th>\n",
       "      <th>...</th>\n",
       "      <th>4/1/20</th>\n",
       "      <th>4/2/20</th>\n",
       "      <th>4/3/20</th>\n",
       "      <th>4/4/20</th>\n",
       "      <th>4/5/20</th>\n",
       "      <th>4/6/20</th>\n",
       "      <th>4/7/20</th>\n",
       "      <th>4/8/20</th>\n",
       "      <th>4/9/20</th>\n",
       "      <th>4/10/20</th>\n",
       "    </tr>\n",
       "  </thead>\n",
       "  <tbody>\n",
       "    <tr>\n",
       "      <td>count</td>\n",
       "      <td>250.000000</td>\n",
       "      <td>250.000000</td>\n",
       "      <td>250.000000</td>\n",
       "      <td>250.000000</td>\n",
       "      <td>250.0000</td>\n",
       "      <td>250.00000</td>\n",
       "      <td>250.00000</td>\n",
       "      <td>250.00000</td>\n",
       "      <td>250.000000</td>\n",
       "      <td>250.000000</td>\n",
       "      <td>...</td>\n",
       "      <td>250.000000</td>\n",
       "      <td>250.000000</td>\n",
       "      <td>250.000000</td>\n",
       "      <td>250.000000</td>\n",
       "      <td>250.000000</td>\n",
       "      <td>250.000000</td>\n",
       "      <td>250.000000</td>\n",
       "      <td>250.000000</td>\n",
       "      <td>250.000000</td>\n",
       "      <td>250.000000</td>\n",
       "    </tr>\n",
       "    <tr>\n",
       "      <td>mean</td>\n",
       "      <td>20.048575</td>\n",
       "      <td>27.934869</td>\n",
       "      <td>0.112000</td>\n",
       "      <td>0.120000</td>\n",
       "      <td>0.1440</td>\n",
       "      <td>0.15600</td>\n",
       "      <td>0.20800</td>\n",
       "      <td>0.24400</td>\n",
       "      <td>0.428000</td>\n",
       "      <td>0.504000</td>\n",
       "      <td>...</td>\n",
       "      <td>772.708000</td>\n",
       "      <td>841.052000</td>\n",
       "      <td>903.184000</td>\n",
       "      <td>984.608000</td>\n",
       "      <td>1040.048000</td>\n",
       "      <td>1106.060000</td>\n",
       "      <td>1200.216000</td>\n",
       "      <td>1314.644000</td>\n",
       "      <td>1415.900000</td>\n",
       "      <td>1504.384000</td>\n",
       "    </tr>\n",
       "    <tr>\n",
       "      <td>std</td>\n",
       "      <td>24.394560</td>\n",
       "      <td>67.432156</td>\n",
       "      <td>1.770875</td>\n",
       "      <td>1.774881</td>\n",
       "      <td>1.9664</td>\n",
       "      <td>2.03278</td>\n",
       "      <td>2.66555</td>\n",
       "      <td>2.86939</td>\n",
       "      <td>5.090034</td>\n",
       "      <td>5.599231</td>\n",
       "      <td>...</td>\n",
       "      <td>4699.801122</td>\n",
       "      <td>4907.434102</td>\n",
       "      <td>5098.780571</td>\n",
       "      <td>5338.962605</td>\n",
       "      <td>5546.156825</td>\n",
       "      <td>5742.144926</td>\n",
       "      <td>6105.529052</td>\n",
       "      <td>6634.364417</td>\n",
       "      <td>7057.018413</td>\n",
       "      <td>7368.006518</td>\n",
       "    </tr>\n",
       "    <tr>\n",
       "      <td>min</td>\n",
       "      <td>-51.796300</td>\n",
       "      <td>-106.346800</td>\n",
       "      <td>0.000000</td>\n",
       "      <td>0.000000</td>\n",
       "      <td>0.0000</td>\n",
       "      <td>0.00000</td>\n",
       "      <td>0.00000</td>\n",
       "      <td>0.00000</td>\n",
       "      <td>0.000000</td>\n",
       "      <td>0.000000</td>\n",
       "      <td>...</td>\n",
       "      <td>0.000000</td>\n",
       "      <td>0.000000</td>\n",
       "      <td>0.000000</td>\n",
       "      <td>0.000000</td>\n",
       "      <td>0.000000</td>\n",
       "      <td>0.000000</td>\n",
       "      <td>0.000000</td>\n",
       "      <td>0.000000</td>\n",
       "      <td>0.000000</td>\n",
       "      <td>0.000000</td>\n",
       "    </tr>\n",
       "    <tr>\n",
       "      <td>25%</td>\n",
       "      <td>6.677575</td>\n",
       "      <td>-8.091400</td>\n",
       "      <td>0.000000</td>\n",
       "      <td>0.000000</td>\n",
       "      <td>0.0000</td>\n",
       "      <td>0.00000</td>\n",
       "      <td>0.00000</td>\n",
       "      <td>0.00000</td>\n",
       "      <td>0.000000</td>\n",
       "      <td>0.000000</td>\n",
       "      <td>...</td>\n",
       "      <td>0.000000</td>\n",
       "      <td>1.000000</td>\n",
       "      <td>1.000000</td>\n",
       "      <td>1.000000</td>\n",
       "      <td>1.000000</td>\n",
       "      <td>2.000000</td>\n",
       "      <td>3.000000</td>\n",
       "      <td>4.000000</td>\n",
       "      <td>4.000000</td>\n",
       "      <td>4.000000</td>\n",
       "    </tr>\n",
       "    <tr>\n",
       "      <td>50%</td>\n",
       "      <td>21.805100</td>\n",
       "      <td>22.380900</td>\n",
       "      <td>0.000000</td>\n",
       "      <td>0.000000</td>\n",
       "      <td>0.0000</td>\n",
       "      <td>0.00000</td>\n",
       "      <td>0.00000</td>\n",
       "      <td>0.00000</td>\n",
       "      <td>0.000000</td>\n",
       "      <td>0.000000</td>\n",
       "      <td>...</td>\n",
       "      <td>12.000000</td>\n",
       "      <td>18.000000</td>\n",
       "      <td>21.000000</td>\n",
       "      <td>24.500000</td>\n",
       "      <td>28.000000</td>\n",
       "      <td>33.000000</td>\n",
       "      <td>39.500000</td>\n",
       "      <td>40.000000</td>\n",
       "      <td>47.500000</td>\n",
       "      <td>53.000000</td>\n",
       "    </tr>\n",
       "    <tr>\n",
       "      <td>75%</td>\n",
       "      <td>39.376275</td>\n",
       "      <td>87.379325</td>\n",
       "      <td>0.000000</td>\n",
       "      <td>0.000000</td>\n",
       "      <td>0.0000</td>\n",
       "      <td>0.00000</td>\n",
       "      <td>0.00000</td>\n",
       "      <td>0.00000</td>\n",
       "      <td>0.000000</td>\n",
       "      <td>0.000000</td>\n",
       "      <td>...</td>\n",
       "      <td>93.500000</td>\n",
       "      <td>109.750000</td>\n",
       "      <td>127.000000</td>\n",
       "      <td>131.000000</td>\n",
       "      <td>141.750000</td>\n",
       "      <td>162.000000</td>\n",
       "      <td>173.000000</td>\n",
       "      <td>202.750000</td>\n",
       "      <td>249.000000</td>\n",
       "      <td>278.750000</td>\n",
       "    </tr>\n",
       "    <tr>\n",
       "      <td>max</td>\n",
       "      <td>71.706900</td>\n",
       "      <td>178.065000</td>\n",
       "      <td>28.000000</td>\n",
       "      <td>28.000000</td>\n",
       "      <td>31.0000</td>\n",
       "      <td>32.00000</td>\n",
       "      <td>42.00000</td>\n",
       "      <td>45.00000</td>\n",
       "      <td>80.000000</td>\n",
       "      <td>88.000000</td>\n",
       "      <td>...</td>\n",
       "      <td>63326.000000</td>\n",
       "      <td>63471.000000</td>\n",
       "      <td>63612.000000</td>\n",
       "      <td>63762.000000</td>\n",
       "      <td>63945.000000</td>\n",
       "      <td>64014.000000</td>\n",
       "      <td>64073.000000</td>\n",
       "      <td>64142.000000</td>\n",
       "      <td>64187.000000</td>\n",
       "      <td>64236.000000</td>\n",
       "    </tr>\n",
       "  </tbody>\n",
       "</table>\n",
       "<p>8 rows × 82 columns</p>\n",
       "</div>"
      ],
      "text/plain": [
       "              Lat        Long     1/22/20     1/23/20   1/24/20    1/25/20  \\\n",
       "count  250.000000  250.000000  250.000000  250.000000  250.0000  250.00000   \n",
       "mean    20.048575   27.934869    0.112000    0.120000    0.1440    0.15600   \n",
       "std     24.394560   67.432156    1.770875    1.774881    1.9664    2.03278   \n",
       "min    -51.796300 -106.346800    0.000000    0.000000    0.0000    0.00000   \n",
       "25%      6.677575   -8.091400    0.000000    0.000000    0.0000    0.00000   \n",
       "50%     21.805100   22.380900    0.000000    0.000000    0.0000    0.00000   \n",
       "75%     39.376275   87.379325    0.000000    0.000000    0.0000    0.00000   \n",
       "max     71.706900  178.065000   28.000000   28.000000   31.0000   32.00000   \n",
       "\n",
       "         1/26/20    1/27/20     1/28/20     1/29/20  ...        4/1/20  \\\n",
       "count  250.00000  250.00000  250.000000  250.000000  ...    250.000000   \n",
       "mean     0.20800    0.24400    0.428000    0.504000  ...    772.708000   \n",
       "std      2.66555    2.86939    5.090034    5.599231  ...   4699.801122   \n",
       "min      0.00000    0.00000    0.000000    0.000000  ...      0.000000   \n",
       "25%      0.00000    0.00000    0.000000    0.000000  ...      0.000000   \n",
       "50%      0.00000    0.00000    0.000000    0.000000  ...     12.000000   \n",
       "75%      0.00000    0.00000    0.000000    0.000000  ...     93.500000   \n",
       "max     42.00000   45.00000   80.000000   88.000000  ...  63326.000000   \n",
       "\n",
       "             4/2/20        4/3/20        4/4/20        4/5/20        4/6/20  \\\n",
       "count    250.000000    250.000000    250.000000    250.000000    250.000000   \n",
       "mean     841.052000    903.184000    984.608000   1040.048000   1106.060000   \n",
       "std     4907.434102   5098.780571   5338.962605   5546.156825   5742.144926   \n",
       "min        0.000000      0.000000      0.000000      0.000000      0.000000   \n",
       "25%        1.000000      1.000000      1.000000      1.000000      2.000000   \n",
       "50%       18.000000     21.000000     24.500000     28.000000     33.000000   \n",
       "75%      109.750000    127.000000    131.000000    141.750000    162.000000   \n",
       "max    63471.000000  63612.000000  63762.000000  63945.000000  64014.000000   \n",
       "\n",
       "             4/7/20        4/8/20        4/9/20       4/10/20  \n",
       "count    250.000000    250.000000    250.000000    250.000000  \n",
       "mean    1200.216000   1314.644000   1415.900000   1504.384000  \n",
       "std     6105.529052   6634.364417   7057.018413   7368.006518  \n",
       "min        0.000000      0.000000      0.000000      0.000000  \n",
       "25%        3.000000      4.000000      4.000000      4.000000  \n",
       "50%       39.500000     40.000000     47.500000     53.000000  \n",
       "75%      173.000000    202.750000    249.000000    278.750000  \n",
       "max    64073.000000  64142.000000  64187.000000  64236.000000  \n",
       "\n",
       "[8 rows x 82 columns]"
      ]
     },
     "execution_count": 3,
     "metadata": {},
     "output_type": "execute_result"
    }
   ],
   "source": [
    "DataFrame.describe()"
   ]
  },
  {
   "cell_type": "markdown",
   "metadata": {},
   "source": [
    "O argumento Inplace = True => faz com que efetive o comando de drop"
   ]
  },
  {
   "cell_type": "code",
   "execution_count": 4,
   "metadata": {},
   "outputs": [
    {
     "data": {
      "text/html": [
       "<div>\n",
       "<style scoped>\n",
       "    .dataframe tbody tr th:only-of-type {\n",
       "        vertical-align: middle;\n",
       "    }\n",
       "\n",
       "    .dataframe tbody tr th {\n",
       "        vertical-align: top;\n",
       "    }\n",
       "\n",
       "    .dataframe thead th {\n",
       "        text-align: right;\n",
       "    }\n",
       "</style>\n",
       "<table border=\"1\" class=\"dataframe\">\n",
       "  <thead>\n",
       "    <tr style=\"text-align: right;\">\n",
       "      <th></th>\n",
       "      <th>1/22/20</th>\n",
       "      <th>1/23/20</th>\n",
       "      <th>1/24/20</th>\n",
       "    </tr>\n",
       "  </thead>\n",
       "  <tbody>\n",
       "    <tr>\n",
       "      <td>0</td>\n",
       "      <td>0</td>\n",
       "      <td>0</td>\n",
       "      <td>0</td>\n",
       "    </tr>\n",
       "    <tr>\n",
       "      <td>1</td>\n",
       "      <td>0</td>\n",
       "      <td>0</td>\n",
       "      <td>0</td>\n",
       "    </tr>\n",
       "    <tr>\n",
       "      <td>2</td>\n",
       "      <td>0</td>\n",
       "      <td>0</td>\n",
       "      <td>0</td>\n",
       "    </tr>\n",
       "  </tbody>\n",
       "</table>\n",
       "</div>"
      ],
      "text/plain": [
       "   1/22/20  1/23/20  1/24/20\n",
       "0        0        0        0\n",
       "1        0        0        0\n",
       "2        0        0        0"
      ]
     },
     "execution_count": 4,
     "metadata": {},
     "output_type": "execute_result"
    }
   ],
   "source": [
    "Serie_Temporal = DataFrame.copy()\n",
    "Serie_Temporal.drop(columns = [\"Province/State\", \"Country/Region\", \"Lat\", \"Long\"], inplace = True)\n",
    "Serie_Temporal.iloc[:3, :3]"
   ]
  },
  {
   "cell_type": "markdown",
   "metadata": {},
   "source": [
    "Juntando tudo em uma série temporal"
   ]
  },
  {
   "cell_type": "code",
   "execution_count": 5,
   "metadata": {},
   "outputs": [
    {
     "data": {
      "text/html": [
       "<div>\n",
       "<style scoped>\n",
       "    .dataframe tbody tr th:only-of-type {\n",
       "        vertical-align: middle;\n",
       "    }\n",
       "\n",
       "    .dataframe tbody tr th {\n",
       "        vertical-align: top;\n",
       "    }\n",
       "\n",
       "    .dataframe thead th {\n",
       "        text-align: right;\n",
       "    }\n",
       "</style>\n",
       "<table border=\"1\" class=\"dataframe\">\n",
       "  <thead>\n",
       "    <tr style=\"text-align: right;\">\n",
       "      <th></th>\n",
       "      <th>y</th>\n",
       "    </tr>\n",
       "  </thead>\n",
       "  <tbody>\n",
       "    <tr>\n",
       "      <td>1/22/20</td>\n",
       "      <td>28</td>\n",
       "    </tr>\n",
       "    <tr>\n",
       "      <td>1/23/20</td>\n",
       "      <td>30</td>\n",
       "    </tr>\n",
       "    <tr>\n",
       "      <td>1/24/20</td>\n",
       "      <td>36</td>\n",
       "    </tr>\n",
       "    <tr>\n",
       "      <td>1/25/20</td>\n",
       "      <td>39</td>\n",
       "    </tr>\n",
       "    <tr>\n",
       "      <td>1/26/20</td>\n",
       "      <td>52</td>\n",
       "    </tr>\n",
       "  </tbody>\n",
       "</table>\n",
       "</div>"
      ],
      "text/plain": [
       "          y\n",
       "1/22/20  28\n",
       "1/23/20  30\n",
       "1/24/20  36\n",
       "1/25/20  39\n",
       "1/26/20  52"
      ]
     },
     "execution_count": 5,
     "metadata": {},
     "output_type": "execute_result"
    }
   ],
   "source": [
    "Serie_Geral = Serie_Temporal.sum().copy()\n",
    "Serie_Geral = pd.DataFrame(Serie_Geral)\n",
    "Serie_Geral.rename(columns = {0 : \"y\"}, inplace = True)\n",
    "Serie_Geral.head()"
   ]
  },
  {
   "cell_type": "markdown",
   "metadata": {},
   "source": [
    "TODOS A PARTIR DO TEMPO 0"
   ]
  },
  {
   "cell_type": "code",
   "execution_count": 6,
   "metadata": {},
   "outputs": [
    {
     "data": {
      "image/png": "[encoded data removed]",
      "text/plain": [
       "<Figure size 1152x432 with 1 Axes>"
      ]
     },
     "metadata": {
      "needs_background": "light"
     },
     "output_type": "display_data"
    }
   ],
   "source": [
    "Serie_Geral.plot(figsize = (16,6))\n",
    "plt.show()"
   ]
  },
  {
   "cell_type": "code",
   "execution_count": 7,
   "metadata": {},
   "outputs": [
    {
     "data": {
      "text/plain": [
       "DatetimeIndex(['2020-01-22', '2020-01-23', '2020-01-24', '2020-01-25',\n",
       "               '2020-01-26', '2020-01-27', '2020-01-28', '2020-01-29',\n",
       "               '2020-01-30', '2020-01-31', '2020-02-01', '2020-02-02',\n",
       "               '2020-02-03', '2020-02-04', '2020-02-05', '2020-02-06',\n",
       "               '2020-02-07', '2020-02-08', '2020-02-09', '2020-02-10',\n",
       "               '2020-02-11', '2020-02-12', '2020-02-13', '2020-02-14',\n",
       "               '2020-02-15', '2020-02-16', '2020-02-17', '2020-02-18',\n",
       "               '2020-02-19', '2020-02-20', '2020-02-21', '2020-02-22',\n",
       "               '2020-02-23', '2020-02-24', '2020-02-25', '2020-02-26',\n",
       "               '2020-02-27', '2020-02-28', '2020-02-29', '2020-03-01',\n",
       "               '2020-03-02', '2020-03-03', '2020-03-04', '2020-03-05',\n",
       "               '2020-03-06', '2020-03-07', '2020-03-08', '2020-03-09',\n",
       "               '2020-03-10', '2020-03-11', '2020-03-12', '2020-03-13',\n",
       "               '2020-03-14', '2020-03-15', '2020-03-16', '2020-03-17',\n",
       "               '2020-03-18', '2020-03-19', '2020-03-20', '2020-03-21',\n",
       "               '2020-03-22', '2020-03-23', '2020-03-24', '2020-03-25',\n",
       "               '2020-03-26', '2020-03-27', '2020-03-28', '2020-03-29',\n",
       "               '2020-03-30', '2020-03-31', '2020-04-01', '2020-04-02',\n",
       "               '2020-04-03', '2020-04-04', '2020-04-05', '2020-04-06',\n",
       "               '2020-04-07', '2020-04-08', '2020-04-09', '2020-04-10'],\n",
       "              dtype='datetime64[ns]', freq=None)"
      ]
     },
     "execution_count": 7,
     "metadata": {},
     "output_type": "execute_result"
    }
   ],
   "source": [
    "pd.to_datetime(Serie_Geral.index)"
   ]
  },
  {
   "cell_type": "markdown",
   "metadata": {},
   "source": [
    "TRANSFORMANDO o INDEX em DATA"
   ]
  },
  {
   "cell_type": "code",
   "execution_count": 8,
   "metadata": {},
   "outputs": [
    {
     "name": "stdout",
     "output_type": "stream",
     "text": [
      "<class 'pandas.core.frame.DataFrame'>\n",
      "DatetimeIndex: 80 entries, 2020-01-22 to 2020-04-10\n",
      "Data columns (total 1 columns):\n",
      "y    80 non-null int64\n",
      "dtypes: int64(1)\n",
      "memory usage: 1.2 KB\n"
     ]
    }
   ],
   "source": [
    "Serie_Geral.index = pd.to_datetime(Serie_Geral.index)\n",
    "Serie_Geral.info()"
   ]
  },
  {
   "cell_type": "code",
   "execution_count": 9,
   "metadata": {},
   "outputs": [
    {
     "data": {
      "text/html": [
       "<div>\n",
       "<style scoped>\n",
       "    .dataframe tbody tr th:only-of-type {\n",
       "        vertical-align: middle;\n",
       "    }\n",
       "\n",
       "    .dataframe tbody tr th {\n",
       "        vertical-align: top;\n",
       "    }\n",
       "\n",
       "    .dataframe thead th {\n",
       "        text-align: right;\n",
       "    }\n",
       "</style>\n",
       "<table border=\"1\" class=\"dataframe\">\n",
       "  <thead>\n",
       "    <tr style=\"text-align: right;\">\n",
       "      <th></th>\n",
       "      <th>y</th>\n",
       "      <th>tempos</th>\n",
       "    </tr>\n",
       "  </thead>\n",
       "  <tbody>\n",
       "    <tr>\n",
       "      <td>2020-01-22</td>\n",
       "      <td>28</td>\n",
       "      <td>0</td>\n",
       "    </tr>\n",
       "    <tr>\n",
       "      <td>2020-01-23</td>\n",
       "      <td>30</td>\n",
       "      <td>1</td>\n",
       "    </tr>\n",
       "    <tr>\n",
       "      <td>2020-01-24</td>\n",
       "      <td>36</td>\n",
       "      <td>2</td>\n",
       "    </tr>\n",
       "    <tr>\n",
       "      <td>2020-01-25</td>\n",
       "      <td>39</td>\n",
       "      <td>3</td>\n",
       "    </tr>\n",
       "    <tr>\n",
       "      <td>2020-01-26</td>\n",
       "      <td>52</td>\n",
       "      <td>4</td>\n",
       "    </tr>\n",
       "  </tbody>\n",
       "</table>\n",
       "</div>"
      ],
      "text/plain": [
       "             y  tempos\n",
       "2020-01-22  28       0\n",
       "2020-01-23  30       1\n",
       "2020-01-24  36       2\n",
       "2020-01-25  39       3\n",
       "2020-01-26  52       4"
      ]
     },
     "execution_count": 9,
     "metadata": {},
     "output_type": "execute_result"
    }
   ],
   "source": [
    "tempos = list(range(Serie_Geral.shape[0]))\n",
    "Serie_Geral[\"tempos\"] = tempos\n",
    "Serie_Geral.head()"
   ]
  },
  {
   "cell_type": "code",
   "execution_count": 10,
   "metadata": {},
   "outputs": [
    {
     "data": {
      "text/plain": [
       "Int64Index([22, 23, 24, 25, 26, 27, 28, 29, 30, 31,  1,  2,  3,  4,  5,  6,  7,\n",
       "             8,  9, 10, 11, 12, 13, 14, 15, 16, 17, 18, 19, 20, 21, 22, 23, 24,\n",
       "            25, 26, 27, 28, 29,  1,  2,  3,  4,  5,  6,  7,  8,  9, 10, 11, 12,\n",
       "            13, 14, 15, 16, 17, 18, 19, 20, 21, 22, 23, 24, 25, 26, 27, 28, 29,\n",
       "            30, 31,  1,  2,  3,  4,  5,  6,  7,  8,  9, 10],\n",
       "           dtype='int64')"
      ]
     },
     "execution_count": 10,
     "metadata": {},
     "output_type": "execute_result"
    }
   ],
   "source": [
    "Serie_Geral.index.day"
   ]
  },
  {
   "cell_type": "markdown",
   "metadata": {},
   "source": [
    "PARA INCLUIR AS COLUNAS DIA e DIA DA SEMANA"
   ]
  },
  {
   "cell_type": "code",
   "execution_count": 11,
   "metadata": {},
   "outputs": [
    {
     "data": {
      "text/html": [
       "<div>\n",
       "<style scoped>\n",
       "    .dataframe tbody tr th:only-of-type {\n",
       "        vertical-align: middle;\n",
       "    }\n",
       "\n",
       "    .dataframe tbody tr th {\n",
       "        vertical-align: top;\n",
       "    }\n",
       "\n",
       "    .dataframe thead th {\n",
       "        text-align: right;\n",
       "    }\n",
       "</style>\n",
       "<table border=\"1\" class=\"dataframe\">\n",
       "  <thead>\n",
       "    <tr style=\"text-align: right;\">\n",
       "      <th></th>\n",
       "      <th>y</th>\n",
       "      <th>tempos</th>\n",
       "      <th>Dia</th>\n",
       "      <th>Dia_da_Semana</th>\n",
       "    </tr>\n",
       "  </thead>\n",
       "  <tbody>\n",
       "    <tr>\n",
       "      <td>2020-04-06</td>\n",
       "      <td>276515</td>\n",
       "      <td>75</td>\n",
       "      <td>6</td>\n",
       "      <td>0</td>\n",
       "    </tr>\n",
       "    <tr>\n",
       "      <td>2020-04-07</td>\n",
       "      <td>300054</td>\n",
       "      <td>76</td>\n",
       "      <td>7</td>\n",
       "      <td>1</td>\n",
       "    </tr>\n",
       "    <tr>\n",
       "      <td>2020-04-08</td>\n",
       "      <td>328661</td>\n",
       "      <td>77</td>\n",
       "      <td>8</td>\n",
       "      <td>2</td>\n",
       "    </tr>\n",
       "    <tr>\n",
       "      <td>2020-04-09</td>\n",
       "      <td>353975</td>\n",
       "      <td>78</td>\n",
       "      <td>9</td>\n",
       "      <td>3</td>\n",
       "    </tr>\n",
       "    <tr>\n",
       "      <td>2020-04-10</td>\n",
       "      <td>376096</td>\n",
       "      <td>79</td>\n",
       "      <td>10</td>\n",
       "      <td>4</td>\n",
       "    </tr>\n",
       "  </tbody>\n",
       "</table>\n",
       "</div>"
      ],
      "text/plain": [
       "                 y  tempos  Dia  Dia_da_Semana\n",
       "2020-04-06  276515      75    6              0\n",
       "2020-04-07  300054      76    7              1\n",
       "2020-04-08  328661      77    8              2\n",
       "2020-04-09  353975      78    9              3\n",
       "2020-04-10  376096      79   10              4"
      ]
     },
     "execution_count": 11,
     "metadata": {},
     "output_type": "execute_result"
    }
   ],
   "source": [
    "Serie_Geral['Dia'] = Serie_Geral.index.day\n",
    "Serie_Geral['Dia_da_Semana'] = Serie_Geral.index.dayofweek\n",
    "# 0 até 6 -> Onde zero é a Segunda\n",
    "Serie_Geral.tail()"
   ]
  },
  {
   "cell_type": "markdown",
   "metadata": {},
   "source": [
    "FAÇO um GROUPBY (Somatoria por dia, utilizando o máximo) e PLOTO no gráfico de barra"
   ]
  },
  {
   "cell_type": "code",
   "execution_count": 12,
   "metadata": {},
   "outputs": [
    {
     "data": {
      "text/plain": [
       "<matplotlib.axes._subplots.AxesSubplot at 0x1bbf7a19488>"
      ]
     },
     "execution_count": 12,
     "metadata": {},
     "output_type": "execute_result"
    },
    {
     "data": {
      "image/png": "[encoded data removed]",
      "text/plain": [
       "<Figure size 1152x432 with 1 Axes>"
      ]
     },
     "metadata": {
      "needs_background": "light"
     },
     "output_type": "display_data"
    }
   ],
   "source": [
    "Serie_Geral.groupby('Dia')[\"y\"].max().plot.bar(figsize = (16,6))"
   ]
  },
  {
   "cell_type": "markdown",
   "metadata": {},
   "source": [
    "FAÇO um GROUPBY (Somatoria por dia da semana, utilizando a média) e PLOTO no gráfico de barra"
   ]
  },
  {
   "cell_type": "code",
   "execution_count": 13,
   "metadata": {},
   "outputs": [
    {
     "data": {
      "text/plain": [
       "<matplotlib.axes._subplots.AxesSubplot at 0x1bbfb5ba848>"
      ]
     },
     "execution_count": 13,
     "metadata": {},
     "output_type": "execute_result"
    },
    {
     "data": {
      "image/png": "[encoded data removed]",
      "text/plain": [
       "<Figure size 1152x432 with 1 Axes>"
      ]
     },
     "metadata": {
      "needs_background": "light"
     },
     "output_type": "display_data"
    }
   ],
   "source": [
    "Serie_Geral.groupby('Dia_da_Semana')[\"y\"].mean().plot.bar(figsize = (16,6))"
   ]
  },
  {
   "cell_type": "code",
   "execution_count": 14,
   "metadata": {},
   "outputs": [
    {
     "data": {
      "text/plain": [
       "80"
      ]
     },
     "execution_count": 14,
     "metadata": {},
     "output_type": "execute_result"
    }
   ],
   "source": [
    "Serie_Geral.shape[0]"
   ]
  },
  {
   "cell_type": "markdown",
   "metadata": {},
   "source": [
    "O comando drop_first foi feito para melhorar o datset, eliminando a primeira coluna do dia da semana e o ultimo dia do mês(31)\n",
    "Depois foi utilizado o engenharia de dados para montar o datset concatenando o dummies_dia com o Serie_geral. Sem os comandos do Dummies(limpeza do dataset, o score estava em 0,02, muito ruim."
   ]
  },
  {
   "cell_type": "code",
   "execution_count": 15,
   "metadata": {},
   "outputs": [
    {
     "data": {
      "text/html": [
       "<div>\n",
       "<style scoped>\n",
       "    .dataframe tbody tr th:only-of-type {\n",
       "        vertical-align: middle;\n",
       "    }\n",
       "\n",
       "    .dataframe tbody tr th {\n",
       "        vertical-align: top;\n",
       "    }\n",
       "\n",
       "    .dataframe thead th {\n",
       "        text-align: right;\n",
       "    }\n",
       "</style>\n",
       "<table border=\"1\" class=\"dataframe\">\n",
       "  <thead>\n",
       "    <tr style=\"text-align: right;\">\n",
       "      <th></th>\n",
       "      <th>y</th>\n",
       "      <th>tempos</th>\n",
       "      <th>Dia</th>\n",
       "      <th>Dia_da_Semana</th>\n",
       "      <th>1</th>\n",
       "      <th>2</th>\n",
       "      <th>3</th>\n",
       "      <th>4</th>\n",
       "      <th>5</th>\n",
       "      <th>6</th>\n",
       "      <th>...</th>\n",
       "      <th>21</th>\n",
       "      <th>22</th>\n",
       "      <th>23</th>\n",
       "      <th>24</th>\n",
       "      <th>25</th>\n",
       "      <th>26</th>\n",
       "      <th>27</th>\n",
       "      <th>28</th>\n",
       "      <th>29</th>\n",
       "      <th>30</th>\n",
       "    </tr>\n",
       "  </thead>\n",
       "  <tbody>\n",
       "    <tr>\n",
       "      <td>2020-01-22</td>\n",
       "      <td>28</td>\n",
       "      <td>0</td>\n",
       "      <td>22</td>\n",
       "      <td>2</td>\n",
       "      <td>0</td>\n",
       "      <td>1</td>\n",
       "      <td>0</td>\n",
       "      <td>0</td>\n",
       "      <td>0</td>\n",
       "      <td>0</td>\n",
       "      <td>...</td>\n",
       "      <td>0</td>\n",
       "      <td>1</td>\n",
       "      <td>0</td>\n",
       "      <td>0</td>\n",
       "      <td>0</td>\n",
       "      <td>0</td>\n",
       "      <td>0</td>\n",
       "      <td>0</td>\n",
       "      <td>0</td>\n",
       "      <td>0</td>\n",
       "    </tr>\n",
       "    <tr>\n",
       "      <td>2020-01-23</td>\n",
       "      <td>30</td>\n",
       "      <td>1</td>\n",
       "      <td>23</td>\n",
       "      <td>3</td>\n",
       "      <td>0</td>\n",
       "      <td>0</td>\n",
       "      <td>1</td>\n",
       "      <td>0</td>\n",
       "      <td>0</td>\n",
       "      <td>0</td>\n",
       "      <td>...</td>\n",
       "      <td>0</td>\n",
       "      <td>0</td>\n",
       "      <td>1</td>\n",
       "      <td>0</td>\n",
       "      <td>0</td>\n",
       "      <td>0</td>\n",
       "      <td>0</td>\n",
       "      <td>0</td>\n",
       "      <td>0</td>\n",
       "      <td>0</td>\n",
       "    </tr>\n",
       "    <tr>\n",
       "      <td>2020-01-24</td>\n",
       "      <td>36</td>\n",
       "      <td>2</td>\n",
       "      <td>24</td>\n",
       "      <td>4</td>\n",
       "      <td>0</td>\n",
       "      <td>0</td>\n",
       "      <td>0</td>\n",
       "      <td>1</td>\n",
       "      <td>0</td>\n",
       "      <td>0</td>\n",
       "      <td>...</td>\n",
       "      <td>0</td>\n",
       "      <td>0</td>\n",
       "      <td>0</td>\n",
       "      <td>1</td>\n",
       "      <td>0</td>\n",
       "      <td>0</td>\n",
       "      <td>0</td>\n",
       "      <td>0</td>\n",
       "      <td>0</td>\n",
       "      <td>0</td>\n",
       "    </tr>\n",
       "  </tbody>\n",
       "</table>\n",
       "<p>3 rows × 39 columns</p>\n",
       "</div>"
      ],
      "text/plain": [
       "             y  tempos  Dia  Dia_da_Semana  1  2  3  4  5  6  ...  21  22  23  \\\n",
       "2020-01-22  28       0   22              2  0  1  0  0  0  0  ...   0   1   0   \n",
       "2020-01-23  30       1   23              3  0  0  1  0  0  0  ...   0   0   1   \n",
       "2020-01-24  36       2   24              4  0  0  0  1  0  0  ...   0   0   0   \n",
       "\n",
       "            24  25  26  27  28  29  30  \n",
       "2020-01-22   0   0   0   0   0   0   0  \n",
       "2020-01-23   0   0   0   0   0   0   0  \n",
       "2020-01-24   1   0   0   0   0   0   0  \n",
       "\n",
       "[3 rows x 39 columns]"
      ]
     },
     "execution_count": 15,
     "metadata": {},
     "output_type": "execute_result"
    }
   ],
   "source": [
    "dummies_Dia_Semana = pd.get_dummies(Serie_Geral[\"Dia_da_Semana\"], drop_first = True)\n",
    "Serie_Geral = pd.concat([Serie_Geral, dummies_Dia_Semana], axis = 1)\n",
    "dummies_Dia = pd.get_dummies(Serie_Geral[\"Dia\"], drop_first = True)\n",
    "Serie_Geral = pd.concat([Serie_Geral, dummies_Dia], axis = 1)\n",
    "Serie_Geral.drop(columns = 31, inplace = True)\n",
    "Serie_Geral.iloc[:3, :]"
   ]
  },
  {
   "cell_type": "code",
   "execution_count": 16,
   "metadata": {},
   "outputs": [
    {
     "data": {
      "text/html": [
       "<div>\n",
       "<style scoped>\n",
       "    .dataframe tbody tr th:only-of-type {\n",
       "        vertical-align: middle;\n",
       "    }\n",
       "\n",
       "    .dataframe tbody tr th {\n",
       "        vertical-align: top;\n",
       "    }\n",
       "\n",
       "    .dataframe thead th {\n",
       "        text-align: right;\n",
       "    }\n",
       "</style>\n",
       "<table border=\"1\" class=\"dataframe\">\n",
       "  <thead>\n",
       "    <tr style=\"text-align: right;\">\n",
       "      <th></th>\n",
       "      <th>y</th>\n",
       "      <th>tempos</th>\n",
       "      <th>Dia</th>\n",
       "      <th>Dia_da_Semana</th>\n",
       "      <th>1</th>\n",
       "      <th>2</th>\n",
       "      <th>3</th>\n",
       "      <th>4</th>\n",
       "      <th>5</th>\n",
       "      <th>6</th>\n",
       "      <th>...</th>\n",
       "      <th>22</th>\n",
       "      <th>23</th>\n",
       "      <th>24</th>\n",
       "      <th>25</th>\n",
       "      <th>26</th>\n",
       "      <th>27</th>\n",
       "      <th>28</th>\n",
       "      <th>29</th>\n",
       "      <th>30</th>\n",
       "      <th>Anterior</th>\n",
       "    </tr>\n",
       "  </thead>\n",
       "  <tbody>\n",
       "    <tr>\n",
       "      <td>2020-01-27</td>\n",
       "      <td>61</td>\n",
       "      <td>5</td>\n",
       "      <td>27</td>\n",
       "      <td>0</td>\n",
       "      <td>0</td>\n",
       "      <td>0</td>\n",
       "      <td>0</td>\n",
       "      <td>0</td>\n",
       "      <td>0</td>\n",
       "      <td>0</td>\n",
       "      <td>...</td>\n",
       "      <td>0</td>\n",
       "      <td>0</td>\n",
       "      <td>0</td>\n",
       "      <td>0</td>\n",
       "      <td>0</td>\n",
       "      <td>1</td>\n",
       "      <td>0</td>\n",
       "      <td>0</td>\n",
       "      <td>0</td>\n",
       "      <td>28.0</td>\n",
       "    </tr>\n",
       "    <tr>\n",
       "      <td>2020-01-28</td>\n",
       "      <td>107</td>\n",
       "      <td>6</td>\n",
       "      <td>28</td>\n",
       "      <td>1</td>\n",
       "      <td>1</td>\n",
       "      <td>0</td>\n",
       "      <td>0</td>\n",
       "      <td>0</td>\n",
       "      <td>0</td>\n",
       "      <td>0</td>\n",
       "      <td>...</td>\n",
       "      <td>0</td>\n",
       "      <td>0</td>\n",
       "      <td>0</td>\n",
       "      <td>0</td>\n",
       "      <td>0</td>\n",
       "      <td>0</td>\n",
       "      <td>1</td>\n",
       "      <td>0</td>\n",
       "      <td>0</td>\n",
       "      <td>30.0</td>\n",
       "    </tr>\n",
       "    <tr>\n",
       "      <td>2020-01-29</td>\n",
       "      <td>126</td>\n",
       "      <td>7</td>\n",
       "      <td>29</td>\n",
       "      <td>2</td>\n",
       "      <td>0</td>\n",
       "      <td>1</td>\n",
       "      <td>0</td>\n",
       "      <td>0</td>\n",
       "      <td>0</td>\n",
       "      <td>0</td>\n",
       "      <td>...</td>\n",
       "      <td>0</td>\n",
       "      <td>0</td>\n",
       "      <td>0</td>\n",
       "      <td>0</td>\n",
       "      <td>0</td>\n",
       "      <td>0</td>\n",
       "      <td>0</td>\n",
       "      <td>1</td>\n",
       "      <td>0</td>\n",
       "      <td>36.0</td>\n",
       "    </tr>\n",
       "    <tr>\n",
       "      <td>2020-01-30</td>\n",
       "      <td>143</td>\n",
       "      <td>8</td>\n",
       "      <td>30</td>\n",
       "      <td>3</td>\n",
       "      <td>0</td>\n",
       "      <td>0</td>\n",
       "      <td>1</td>\n",
       "      <td>0</td>\n",
       "      <td>0</td>\n",
       "      <td>0</td>\n",
       "      <td>...</td>\n",
       "      <td>0</td>\n",
       "      <td>0</td>\n",
       "      <td>0</td>\n",
       "      <td>0</td>\n",
       "      <td>0</td>\n",
       "      <td>0</td>\n",
       "      <td>0</td>\n",
       "      <td>0</td>\n",
       "      <td>1</td>\n",
       "      <td>39.0</td>\n",
       "    </tr>\n",
       "    <tr>\n",
       "      <td>2020-01-31</td>\n",
       "      <td>222</td>\n",
       "      <td>9</td>\n",
       "      <td>31</td>\n",
       "      <td>4</td>\n",
       "      <td>0</td>\n",
       "      <td>0</td>\n",
       "      <td>0</td>\n",
       "      <td>1</td>\n",
       "      <td>0</td>\n",
       "      <td>0</td>\n",
       "      <td>...</td>\n",
       "      <td>0</td>\n",
       "      <td>0</td>\n",
       "      <td>0</td>\n",
       "      <td>0</td>\n",
       "      <td>0</td>\n",
       "      <td>0</td>\n",
       "      <td>0</td>\n",
       "      <td>0</td>\n",
       "      <td>0</td>\n",
       "      <td>52.0</td>\n",
       "    </tr>\n",
       "  </tbody>\n",
       "</table>\n",
       "<p>5 rows × 40 columns</p>\n",
       "</div>"
      ],
      "text/plain": [
       "              y  tempos  Dia  Dia_da_Semana  1  2  3  4  5  6  ...  22  23  \\\n",
       "2020-01-27   61       5   27              0  0  0  0  0  0  0  ...   0   0   \n",
       "2020-01-28  107       6   28              1  1  0  0  0  0  0  ...   0   0   \n",
       "2020-01-29  126       7   29              2  0  1  0  0  0  0  ...   0   0   \n",
       "2020-01-30  143       8   30              3  0  0  1  0  0  0  ...   0   0   \n",
       "2020-01-31  222       9   31              4  0  0  0  1  0  0  ...   0   0   \n",
       "\n",
       "            24  25  26  27  28  29  30  Anterior  \n",
       "2020-01-27   0   0   0   1   0   0   0      28.0  \n",
       "2020-01-28   0   0   0   0   1   0   0      30.0  \n",
       "2020-01-29   0   0   0   0   0   1   0      36.0  \n",
       "2020-01-30   0   0   0   0   0   0   1      39.0  \n",
       "2020-01-31   0   0   0   0   0   0   0      52.0  \n",
       "\n",
       "[5 rows x 40 columns]"
      ]
     },
     "execution_count": 16,
     "metadata": {},
     "output_type": "execute_result"
    }
   ],
   "source": [
    "Serie_Geral[\"Anterior\"] = Serie_Geral[\"y\"].shift(5)\n",
    "Serie_Geral = Serie_Geral.iloc[5:]\n",
    "Serie_Geral.head()"
   ]
  },
  {
   "cell_type": "markdown",
   "metadata": {},
   "source": [
    "PREVISÃO DA SÉRIE POR SOMA CUMULATIVA\n",
    "Utilizo o 1 porque o X que é o tempo está na coluna 1 e o 0 porque o Y esta na coluna 0 ( será realizado o teste Y com 15 registros"
   ]
  },
  {
   "cell_type": "code",
   "execution_count": 17,
   "metadata": {},
   "outputs": [
    {
     "data": {
      "text/plain": [
       "15"
      ]
     },
     "execution_count": 17,
     "metadata": {},
     "output_type": "execute_result"
    }
   ],
   "source": [
    "Taxa_Treino = 0.8\n",
    "X_Treino = Serie_Geral.iloc[:round(Serie_Geral.shape[0] * Taxa_Treino), 1:]\n",
    "X_Teste = Serie_Geral.iloc[round(Serie_Geral.shape[0] * Taxa_Treino):, 1:]\n",
    "\n",
    "Y_Treino = Serie_Geral.iloc[:round(Serie_Geral.shape[0] * Taxa_Treino), 0]\n",
    "Y_Teste = Serie_Geral.iloc[round(Serie_Geral.shape[0] * Taxa_Treino):, 0]\n",
    "len(Y_Teste)"
   ]
  },
  {
   "cell_type": "markdown",
   "metadata": {},
   "source": [
    "PLOTO o treino_Y e o Teste_Y"
   ]
  },
  {
   "cell_type": "code",
   "execution_count": 18,
   "metadata": {
    "scrolled": true
   },
   "outputs": [
    {
     "data": {
      "image/png": "[encoded data removed]",
      "text/plain": [
       "<Figure size 1152x432 with 1 Axes>"
      ]
     },
     "metadata": {
      "needs_background": "light"
     },
     "output_type": "display_data"
    }
   ],
   "source": [
    "plt.figure(figsize = (16,6))\n",
    "plt.title(f\"Previsão de {len(Y_Teste)} Dias\")\n",
    "plt.plot(Y_Treino)\n",
    "plt.plot(Y_Teste)\n",
    "plt.show()"
   ]
  },
  {
   "cell_type": "markdown",
   "metadata": {},
   "source": [
    "PARA FAZER A PREVISÂO POR LINEAR MODEL"
   ]
  },
  {
   "cell_type": "code",
   "execution_count": 19,
   "metadata": {},
   "outputs": [],
   "source": [
    "from sklearn.linear_model import LinearRegression"
   ]
  },
  {
   "cell_type": "markdown",
   "metadata": {},
   "source": [
    "ABAIXO vamos executar a regresão linear, ajustando ao X_treino e Y_treino e ver o score "
   ]
  },
  {
   "cell_type": "code",
   "execution_count": 20,
   "metadata": {},
   "outputs": [
    {
     "data": {
      "text/plain": [
       "0.9973092404875658"
      ]
     },
     "execution_count": 20,
     "metadata": {},
     "output_type": "execute_result"
    }
   ],
   "source": [
    "modelo = LinearRegression().fit(X_Treino, Y_Treino)\n",
    "modelo.score(X_Treino, Y_Treino)"
   ]
  },
  {
   "cell_type": "markdown",
   "metadata": {},
   "source": [
    "O resultado do Score foi muito bom, pois ficou bem alto, próximo do valor 1."
   ]
  },
  {
   "cell_type": "code",
   "execution_count": 21,
   "metadata": {},
   "outputs": [
    {
     "data": {
      "text/plain": [
       "(array([ 5.25055523e+02, -3.69174212e+01,  1.30709523e+02, -6.27608276e-01,\n",
       "         4.90516196e+02,  1.62730468e+03,  8.28939248e+00, -6.07351546e+02,\n",
       "        -4.54668192e+02, -4.95590928e+01, -3.42854928e+02, -1.15427735e+03,\n",
       "        -2.53721387e+03, -3.02966928e+03, -2.38805493e+03, -2.53837261e+03,\n",
       "        -3.19786290e+03, -3.56744042e+03, -3.84375773e+03, -5.72262018e+03,\n",
       "        -5.87064646e+03, -4.38260090e+03, -3.55663120e+03, -3.74140888e+03,\n",
       "        -2.68896219e+03, -2.79704571e+03, -4.35092986e+03, -4.58661985e+03,\n",
       "        -3.16088018e+03, -4.32170813e+02, -2.30091868e+03,  1.52731919e+03,\n",
       "         2.89652252e+03,  4.67054148e+03, -3.48822688e+02,  1.35562650e+03,\n",
       "         1.52720626e+03, -1.06761935e+03,  8.88331903e-01]),\n",
       " -3936.380393720312)"
      ]
     },
     "execution_count": 21,
     "metadata": {},
     "output_type": "execute_result"
    }
   ],
   "source": [
    "modelo.coef_, modelo.intercept_"
   ]
  },
  {
   "cell_type": "markdown",
   "metadata": {},
   "source": [
    "PARA PREDIÇÂO, comparando o X_teste com o Y"
   ]
  },
  {
   "cell_type": "code",
   "execution_count": 22,
   "metadata": {},
   "outputs": [
    {
     "data": {
      "text/plain": [
       "2020-03-27    116345.0\n",
       "2020-03-28    118454.0\n",
       "2020-03-29    127968.0\n",
       "2020-03-30    130673.0\n",
       "2020-03-31    139788.0\n",
       "2020-04-01    149828.0\n",
       "2020-04-02    159085.0\n",
       "2020-04-03    166379.0\n",
       "2020-04-04    179326.0\n",
       "2020-04-05    190679.0\n",
       "2020-04-06    203797.0\n",
       "2020-04-07    220235.0\n",
       "2020-04-08    234993.0\n",
       "2020-04-09    254172.0\n",
       "2020-04-10    265114.0\n",
       "Name: 0, dtype: float64"
      ]
     },
     "execution_count": 22,
     "metadata": {},
     "output_type": "execute_result"
    }
   ],
   "source": [
    "Previsto = modelo.predict(X_Teste)\n",
    "Previsto = Previsto.round()\n",
    "df_Previsao = X_Teste.copy()\n",
    "df_Previsao[0] = Previsto\n",
    "df_Previsao = df_Previsao.loc[:, 0]\n",
    "df_Previsao"
   ]
  },
  {
   "cell_type": "markdown",
   "metadata": {},
   "source": [
    "MAPE Será nossa medida de erro além do Score da Regressão"
   ]
  },
  {
   "cell_type": "code",
   "execution_count": 23,
   "metadata": {},
   "outputs": [],
   "source": [
    "# Percentual de Erro da Média Absoluta\n",
    "def mean_absolute_percentage_error(y_true, y_pred):\n",
    "    y_true = np.array(y_true) + 1\n",
    "    y_pred = np.array(y_pred) + 1\n",
    "    # Add +1 para evitar divisão por zero\n",
    "    return np.mean(np.abs((y_true - y_pred) / y_true))\n",
    "# Quanto menor, melhor"
   ]
  },
  {
   "cell_type": "code",
   "execution_count": 24,
   "metadata": {},
   "outputs": [],
   "source": [
    "# MAPE => Mean Absolute Percentage Error\n",
    "Erro_Treino = mean_absolute_percentage_error(Y_Treino.values.reshape(-1, 1), modelo.predict(X_Treino).reshape(-1, 1))\n",
    "Erro_Treino = round(Erro_Treino * 100, 2)\n",
    "Erro_Teste = mean_absolute_percentage_error(Y_Teste.values, df_Previsao.values)\n",
    "Erro_Teste = round(Erro_Teste * 100, 2)\n",
    "Score_Bonito = round(modelo.score(X_Treino, Y_Treino), 4) * 100"
   ]
  },
  {
   "cell_type": "code",
   "execution_count": 25,
   "metadata": {},
   "outputs": [
    {
     "data": {
      "image/png": "[encoded data removed]",
      "text/plain": [
       "<Figure size 1152x432 with 1 Axes>"
      ]
     },
     "metadata": {
      "needs_background": "light"
     },
     "output_type": "display_data"
    }
   ],
   "source": [
    "plt.figure(figsize = (16,6))\n",
    "plt.title(f\"Score R_Quadrado no Treino de {Score_Bonito}%\")\n",
    "plt.plot(Y_Treino)\n",
    "plt.plot(Y_Teste)\n",
    "plt.plot(df_Previsao)\n",
    "plt.legend([f\"Treino com MAPE {Erro_Treino}%\"\n",
    "            , f\"Teste com MAPE {Erro_Teste}%\"\n",
    "            , f\"Previsão  de {len(Y_Teste)} Dias {df_Previsao.values}\"])\n",
    "plt.xlabel(\"Datas, da Série Temporal\")\n",
    "plt.ylabel(\"Quantidade de Casos Recuperados\")\n",
    "plt.savefig(\"Resultado_Exercicio_COVID_19_Recuperados_Serie_Temporal.jpg\")\n",
    "plt.show()"
   ]
  }
 ],
 "metadata": {
  "kernelspec": {
   "display_name": "Python 3",
   "language": "python",
   "name": "python3"
  },
  "language_info": {
   "codemirror_mode": {
    "name": "ipython",
    "version": 3
   },
   "file_extension": ".py",
   "mimetype": "text/x-python",
   "name": "python",
   "nbconvert_exporter": "python",
   "pygments_lexer": "ipython3",
   "version": "3.7.4"
  }
 },
 "nbformat": 4,
 "nbformat_minor": 2
}
